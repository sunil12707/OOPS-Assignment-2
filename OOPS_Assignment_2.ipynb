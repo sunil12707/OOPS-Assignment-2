{
  "nbformat": 4,
  "nbformat_minor": 0,
  "metadata": {
    "colab": {
      "provenance": []
    },
    "kernelspec": {
      "name": "python3",
      "display_name": "Python 3"
    },
    "language_info": {
      "name": "python"
    }
  },
  "cells": [
    {
      "cell_type": "markdown",
      "source": [
        "**OOPS Assignment-2**"
      ],
      "metadata": {
        "id": "5rxjsDUlDV7M"
      }
    },
    {
      "cell_type": "markdown",
      "source": [
        "**Q1. What is Abstraction in OOps? Explain with an example.**"
      ],
      "metadata": {
        "id": "WQ7117ACDl4W"
      }
    },
    {
      "cell_type": "markdown",
      "source": [
        "**Abstraction in object-oriented programming is the concept of hiding the complex implementation details of an object and only showing the necessary features and functionalities to the outside world. It focuses on what an object does rather than how it does it.**"
      ],
      "metadata": {
        "id": "4hIXe51ADzKZ"
      }
    },
    {
      "cell_type": "code",
      "execution_count": 1,
      "metadata": {
        "colab": {
          "base_uri": "https://localhost:8080/"
        },
        "id": "FzwQwGzLDB0w",
        "outputId": "217d13d7-8d1c-4710-bf9a-b38c467ade4b"
      },
      "outputs": [
        {
          "output_type": "stream",
          "name": "stdout",
          "text": [
            "Area: 20\n",
            "Perimeter: 18\n"
          ]
        }
      ],
      "source": [
        "class Shape:\n",
        "    def area(self):\n",
        "        pass\n",
        "\n",
        "    def perimeter(self):\n",
        "        pass\n",
        "\n",
        "class Rectangle(Shape):\n",
        "    def __init__(self, length, width):\n",
        "        self.length = length\n",
        "        self.width = width\n",
        "\n",
        "    def area(self):\n",
        "        return self.length * self.width\n",
        "\n",
        "    def perimeter(self):\n",
        "        return 2 * (self.length + self.width)\n",
        "\n",
        "# Usage\n",
        "rectangle = Rectangle(5, 4)\n",
        "print(\"Area:\", rectangle.area())        # Output: Area: 20\n",
        "print(\"Perimeter:\", rectangle.perimeter())  # Output: Perimeter: 18\n"
      ]
    },
    {
      "cell_type": "markdown",
      "source": [
        "**Q2. Differentiate between Abstraction and Encapsulation. Explain with an example.**"
      ],
      "metadata": {
        "id": "Upt9uG9iD7Wz"
      }
    },
    {
      "cell_type": "markdown",
      "source": [
        "**Abstraction:\n",
        "\n",
        "Abstraction focuses on hiding the complex implementation details of an object and showing only the necessary features and functionalities.\n",
        "It deals with the external behavior of an object.\n",
        "It provides a simplified view of an object, making it easier to work with.\n",
        "Example: Providing methods like area() and perimeter() in a Shape class without revealing how they are implemented for specific shapes like rectangles or circles.\n",
        "Encapsulation:\n",
        "\n",
        "Encapsulation focuses on bundling the data (attributes) and methods (functions) that operate on the data into a single unit called a class.\n",
        "It involves data hiding and access control to protect the integrity of the data.\n",
        "It prevents direct access to the internal state of an object from outside the class.\n",
        "Example: Using private attributes and methods within a class to prevent direct modification or access from outside the class.**"
      ],
      "metadata": {
        "id": "lpaQU8hSEJhB"
      }
    },
    {
      "cell_type": "markdown",
      "source": [
        "**Q3. What is abc module in python? Why is it used?**"
      ],
      "metadata": {
        "id": "aaqVNxihEPej"
      }
    },
    {
      "cell_type": "markdown",
      "source": [
        "**The abc module in Python stands for \"Abstract Base Classes\". It provides infrastructure for defining abstract base classes in Python. Abstract base classes are classes that cannot be instantiated directly but serve as templates for other classes by defining a set of methods that must be implemented by subclasses.\n",
        "\n",
        "The abc module is used to define abstract base classes and abstract methods. It ensures that concrete subclasses of an abstract base class implement all the required methods.\n",
        "\n",
        "**"
      ],
      "metadata": {
        "id": "ycbkJ-G8EabS"
      }
    },
    {
      "cell_type": "markdown",
      "source": [
        "**Q4. How can we achieve data abstraction?**"
      ],
      "metadata": {
        "id": "Qyyc2yzREsn9"
      }
    },
    {
      "cell_type": "markdown",
      "source": [
        "**Data abstraction can be achieved in Python by using classes and defining methods that operate on the data without exposing the internal details of how the data is stored or manipulated. By encapsulating the data and providing methods to interact with it, we can abstract away the complexity of the data representation.**"
      ],
      "metadata": {
        "id": "RrilZFsAEyTq"
      }
    },
    {
      "cell_type": "markdown",
      "source": [
        "**Q5. Can we create an instance of an abstract class? Explain your answer.**"
      ],
      "metadata": {
        "id": "WHXLfvjaFDSI"
      }
    },
    {
      "cell_type": "markdown",
      "source": [
        "**No, we cannot create an instance of an abstract class in Python. An abstract class is a class that contains one or more abstract methods, which are methods without any implementation. Attempting to create an instance of an abstract class would raise a TypeError.\n",
        "\n",
        "Abstract classes are meant to be used as base classes for other classes. Subclasses of an abstract class must implement all the abstract methods defined in the abstract base class before they can be instantiated.**"
      ],
      "metadata": {
        "id": "MuyawDeRFH2i"
      }
    },
    {
      "cell_type": "code",
      "source": [
        "from abc import ABC, abstractmethod\n",
        "\n",
        "class MyAbstractClass(ABC):\n",
        "    @abstractmethod\n",
        "    def my_method(self):\n",
        "        pass\n",
        "\n",
        "# Attempting to create an instance of MyAbstractClass\n",
        "obj = MyAbstractClass()  # Raises TypeError: Can't instantiate abstract class MyAbstractClass with abstract methods my_method\n"
      ],
      "metadata": {
        "colab": {
          "base_uri": "https://localhost:8080/",
          "height": 176
        },
        "id": "XDLZ7KAIDIy7",
        "outputId": "3890cd88-cee1-49d9-fe04-7fe69e9401ee"
      },
      "execution_count": 2,
      "outputs": [
        {
          "output_type": "error",
          "ename": "TypeError",
          "evalue": "Can't instantiate abstract class MyAbstractClass with abstract method my_method",
          "traceback": [
            "\u001b[0;31m---------------------------------------------------------------------------\u001b[0m",
            "\u001b[0;31mTypeError\u001b[0m                                 Traceback (most recent call last)",
            "\u001b[0;32m<ipython-input-2-b30eb59d038e>\u001b[0m in \u001b[0;36m<cell line: 9>\u001b[0;34m()\u001b[0m\n\u001b[1;32m      7\u001b[0m \u001b[0;34m\u001b[0m\u001b[0m\n\u001b[1;32m      8\u001b[0m \u001b[0;31m# Attempting to create an instance of MyAbstractClass\u001b[0m\u001b[0;34m\u001b[0m\u001b[0;34m\u001b[0m\u001b[0m\n\u001b[0;32m----> 9\u001b[0;31m \u001b[0mobj\u001b[0m \u001b[0;34m=\u001b[0m \u001b[0mMyAbstractClass\u001b[0m\u001b[0;34m(\u001b[0m\u001b[0;34m)\u001b[0m  \u001b[0;31m# Raises TypeError: Can't instantiate abstract class MyAbstractClass with abstract methods my_method\u001b[0m\u001b[0;34m\u001b[0m\u001b[0;34m\u001b[0m\u001b[0m\n\u001b[0m",
            "\u001b[0;31mTypeError\u001b[0m: Can't instantiate abstract class MyAbstractClass with abstract method my_method"
          ]
        }
      ]
    },
    {
      "cell_type": "code",
      "source": [],
      "metadata": {
        "id": "5WB92YrqDI1w"
      },
      "execution_count": null,
      "outputs": []
    },
    {
      "cell_type": "code",
      "source": [],
      "metadata": {
        "id": "blW-7UH2DI4i"
      },
      "execution_count": null,
      "outputs": []
    },
    {
      "cell_type": "code",
      "source": [],
      "metadata": {
        "id": "3L0cC3wADI8E"
      },
      "execution_count": null,
      "outputs": []
    },
    {
      "cell_type": "code",
      "source": [],
      "metadata": {
        "id": "b7d2oSWPDI-Z"
      },
      "execution_count": null,
      "outputs": []
    },
    {
      "cell_type": "code",
      "source": [],
      "metadata": {
        "id": "YRzPTmp1DJBx"
      },
      "execution_count": null,
      "outputs": []
    },
    {
      "cell_type": "markdown",
      "source": [
        "** **"
      ],
      "metadata": {
        "id": "tfTCiSWIDJx6"
      }
    },
    {
      "cell_type": "markdown",
      "source": [],
      "metadata": {
        "id": "GKfEOsBnDVMN"
      }
    }
  ]
}